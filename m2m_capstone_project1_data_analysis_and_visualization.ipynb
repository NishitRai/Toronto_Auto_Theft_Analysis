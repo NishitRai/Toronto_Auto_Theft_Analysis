{
  "nbformat": 4,
  "nbformat_minor": 0,
  "metadata": {
    "colab": {
      "provenance": []
    },
    "kernelspec": {
      "name": "python3",
      "display_name": "Python 3"
    },
    "language_info": {
      "name": "python"
    }
  },
  "cells": [
    {
      "cell_type": "markdown",
      "source": [
        "# TORONTO AUTO THEFT ANALYSIS (2014 - 2024)\n"
      ],
      "metadata": {
        "id": "i8wVfG55DF12"
      }
    },
    {
      "cell_type": "code",
      "execution_count": null,
      "metadata": {
        "id": "wR2NGb8WKvu-",
        "collapsed": true
      },
      "outputs": [],
      "source": [
        "#Import pandas and load data\n",
        "import pandas as pd\n",
        "\n",
        "cols = ['EVENT_UNIQUE_ID', 'REPORT_YEAR', 'REPORT_MONTH', 'REPORT_DOW', 'REPORT_HOUR',\n",
        "        'OCC_DOW', 'OCC_HOUR', 'DIVISION', 'LOCATION_TYPE', 'PREMISES_TYPE', 'HOOD_158', 'NEIGHBOURHOOD_158',\n",
        "        'LONG_WGS84', 'LAT_WGS84', 'x', 'y']\n",
        "auto_theft_data = pd.read_csv('Auto_Theft_Toronto.csv', usecols=cols)\n",
        "auto_theft_data.info()"
      ]
    },
    {
      "cell_type": "markdown",
      "source": [
        "# Generate a visualization to show the number of reported auto theft per year.\n",
        "\n",
        "Group data by year and count the number of reported incidents.\n",
        "\n",
        "Note: Year 2025 data is not included in graph as data available till Mar-31."
      ],
      "metadata": {
        "id": "s3NJ3eq9Un9I"
      }
    },
    {
      "cell_type": "code",
      "source": [
        "#Filtering data until 2024 as 2025 data entire year data is not available\n",
        "auto_theft_data_filtered = auto_theft_data[auto_theft_data['REPORT_YEAR'] < 2025]\n",
        "\n",
        "##Groupby year and count number of entries per year\n",
        "theft_by_year = auto_theft_data_filtered.groupby('REPORT_YEAR').size().reset_index(name='THEFT_COUNT')\n",
        "theft_by_year.set_index('REPORT_YEAR', inplace=True)\n",
        "#Create year list as list string\n",
        "years_list = list(map(str, theft_by_year.index.tolist()))"
      ],
      "metadata": {
        "id": "AE9iXC6UUmby",
        "collapsed": true
      },
      "execution_count": null,
      "outputs": []
    },
    {
      "cell_type": "markdown",
      "source": [
        "Plot the data frame using Bokeh"
      ],
      "metadata": {
        "id": "GHjzopPzMkVN"
      }
    },
    {
      "cell_type": "code",
      "source": [
        "from bokeh.plotting import figure, show, output_notebook\n",
        "from bokeh.models import ColumnDataSource, LabelSet, Legend, LegendItem\n",
        "from bokeh.models import CrosshairTool\n",
        "from bokeh.palettes import cividis, YlOrRd9, Category20, Blues\n",
        "import math\n",
        "\n",
        "output_notebook()\n",
        "colors = [Blues[256][x*20] for x in range(1, 12)]\n",
        "plot_year = figure(title='Total auto thefts per year 2014-2024',\n",
        "                   tooltips=\"Thefts: @top\",\n",
        "                   x_range=years_list, width=800, height=600)\n",
        "plot_year.vbar(x=years_list, top=theft_by_year['THEFT_COUNT'], width=0.5, color=colors[::-1])\n",
        "plot_year.xaxis.axis_label = 'Year'\n",
        "plot_year.yaxis.axis_label = 'Number of thefts reported'\n",
        "\n",
        "data = {'x': years_list,\n",
        "        'y': theft_by_year['THEFT_COUNT'],\n",
        "        'labels': theft_by_year['THEFT_COUNT']}\n",
        "source = ColumnDataSource(data=data)\n",
        "\n",
        "labels = LabelSet(x='x', y='y', text='labels', level='glyph',\n",
        "                  x_offset=-12, y_offset=5, angle=0,\n",
        "                  text_font_style = 'bold',\n",
        "                  text_font_size = '10px', source=source)\n",
        "\n",
        "plot_year.add_layout(labels)\n",
        "show(plot_year)"
      ],
      "metadata": {
        "id": "DewKyjKNXeHp"
      },
      "execution_count": null,
      "outputs": []
    },
    {
      "cell_type": "markdown",
      "source": [
        "Calculate the year on year change percentage of auto thefts and display it on a line plot."
      ],
      "metadata": {
        "id": "g3LRfSYbR1YF"
      }
    },
    {
      "cell_type": "code",
      "source": [
        "#Calculate the percentage increase or decrease from previous year\n",
        "theft_by_year['YoY_CHANGE_PERCENT'] = (((theft_by_year['THEFT_COUNT'] / theft_by_year['THEFT_COUNT'].shift(1)) - 1) * 100).round(2)\n",
        "year_change_percent = theft_by_year['YoY_CHANGE_PERCENT']\n",
        "\n",
        "#Build the plots\n",
        "plot_yoy_percent = figure(title=\"YoY percent change in Auto Thefts\",\n",
        "                          tooltips=\"Thefts: @y\",\n",
        "                          x_range=years_list, width=800, height=600)\n",
        "plot_yoy_percent.line(x=years_list, y=theft_by_year['THEFT_COUNT'])\n",
        "plot_yoy_percent.xaxis.axis_label = 'Year'\n",
        "plot_yoy_percent.yaxis.axis_label = 'Number of thefts reported'\n",
        "percent_change = [str(x)+\"%\" for x in year_change_percent]\n",
        "percent_change[0] = \"\"\n",
        "data = {'x': years_list, 'y': theft_by_year['THEFT_COUNT'], 'labels': percent_change}\n",
        "source = ColumnDataSource(data=data)\n",
        "\n",
        "labels = LabelSet(x='x', y='y', text='labels', level='glyph',\n",
        "                  x_offset=-12, y_offset=5, angle=0,\n",
        "                  text_font_style = 'bold',\n",
        "                  text_font_size = '15px', source=source)\n",
        "\n",
        "plot_yoy_percent.add_layout(labels)\n",
        "plot_year.add_tools(CrosshairTool())\n",
        "plot_yoy_percent.scatter(x=years_list, y=theft_by_year['THEFT_COUNT'], size=5, color=\"black\", fill_alpha=0.6)\n",
        "\n",
        "show(plot_yoy_percent)"
      ],
      "metadata": {
        "id": "3bysmFLGRz2l"
      },
      "execution_count": null,
      "outputs": []
    },
    {
      "cell_type": "markdown",
      "source": [
        "# Generate visualization to show the number of reported auto theft per month of the year.\n",
        "Identify any seasonal trends if any."
      ],
      "metadata": {
        "id": "zGDK9-2Drz-x"
      }
    },
    {
      "cell_type": "code",
      "source": [
        "# Create an order for the months. Useful when plotting and creating data frames.\n",
        "month_order = ['January', 'February', 'March', 'April', 'May', 'June', 'July', 'August', 'September', 'October', 'November', 'December']\n",
        "\n",
        "##First group by years. We already have grouped data by year\n",
        "##Group by year and fetch monthly theft count data per year\n",
        "df_yearly = auto_theft_data_filtered.groupby('REPORT_YEAR')\n",
        "\n",
        "#display(df_yearly.groups.keys())\n",
        "\n",
        "# Create a dictionary per year containing data frame of monthly theft counts\n",
        "yearly_group = {}\n",
        "for year in df_yearly.groups.keys():\n",
        "  df_monthly = df_yearly.get_group(year)['REPORT_MONTH'].value_counts().reset_index()\n",
        "  df_monthly.columns = ['REPORT_MONTH', 'AUTO_THEFTS']\n",
        "  df_monthly.set_index('REPORT_MONTH', inplace=True)\n",
        "  df_monthly = df_monthly.reindex(month_order)\n",
        "  yearly_group[year] = df_monthly\n",
        "\n",
        "## Plot multiple years on a single graph and later add widgets\n",
        "palette = Category20[len(years_list)]\n",
        "plot = figure(title=\"Total auto thefts per month\",\n",
        "              tooltips=[(\"Year\", '$name'), (\"Month\", \"@x\"), (\"Thefts\", \"@y\")],\n",
        "              x_axis_label='Month',\n",
        "              y_axis_label='Total Thefts',\n",
        "              y_range=(150, 1400),\n",
        "              x_range=month_order, width=800, height=600)\n",
        "plot.xaxis.major_label_orientation = math.pi / 4\n",
        "\n",
        "legend = Legend(items=[], location='center', orientation='vertical')\n",
        "#legend.click_policy = 'hide'\n",
        "legend.title = 'Year'\n",
        "years_line = {}\n",
        "years_scatter = {}\n",
        "for i, year in enumerate(df_yearly.groups):\n",
        "  monthly_count = yearly_group[year]['AUTO_THEFTS']\n",
        "  line = plot.line(x=monthly_count.index, y=monthly_count, name=str(year),\n",
        "                   color=palette[i], line_width=2)\n",
        "  line.visible = True  ## By default, the lines won't be visible.\n",
        "  scatter = plot.scatter(x=df_monthly.index, y=monthly_count, size=5,\n",
        "                         marker='circle', color=palette[i])\n",
        "  scatter.visible = False\n",
        "  legend.items.append(LegendItem(label=str(year), renderers=[line]))\n",
        "  years_line[year] = line\n",
        "  years_scatter[year] = scatter\n",
        "\n",
        "#show(plot)\n",
        "plot.add_tools(CrosshairTool())\n",
        "plot.add_layout(legend, 'right')\n",
        "\n",
        "# Add Widgets to view the lines\n",
        "from ipywidgets import interact, SelectMultiple, IntSlider\n",
        "from bokeh.io import push_notebook\n",
        "\n",
        "#Create a handle to push changes to the notebook graph\n",
        "handle = show(plot, notebook_handle=True)\n",
        "\n",
        "select_years = SelectMultiple(\n",
        "    options = df_yearly['REPORT_YEAR'].count().index.tolist(),\n",
        "    description = \"Select year:\",\n",
        "    value = [2023, 2024],\n",
        "    rows = 5\n",
        ")\n",
        "\n",
        "@interact(year=select_years)\n",
        "def update(year):\n",
        "  for key, value in years_line.items():\n",
        "    if key in year:\n",
        "      years_line[key].visible = True\n",
        "      years_scatter[key].visible = True\n",
        "    else:\n",
        "      years_line[key].visible = False\n",
        "      years_scatter[key].visible = False\n",
        "  push_notebook(handle=handle)"
      ],
      "metadata": {
        "id": "voU-OCIaavFt"
      },
      "execution_count": null,
      "outputs": []
    },
    {
      "cell_type": "markdown",
      "source": [
        "# Analyze and Visualize the hourly auto theft data for all years from 2014-2024.\n",
        "Look for insights at which hours are more vulnerable for occurrence. Check against the reported hour."
      ],
      "metadata": {
        "id": "GGZkAtSCSFEB"
      }
    },
    {
      "cell_type": "code",
      "metadata": {
        "id": "4a8c8ebf"
      },
      "source": [
        "# Visualize hour of the day theft data. Compare Occurrence vs Reported Hour.\n",
        "hourly_rep_data = auto_theft_data_filtered.groupby('REPORT_HOUR').size().rename('Thefts: Reporting Hour')\n",
        "hourly_rep_data.plot(kind='line', xlabel='HOUR OF THE DAY', legend=True,\n",
        "                     marker='o')\n",
        "\n",
        "hourly_occ_data = auto_theft_data_filtered.groupby('OCC_HOUR').size().rename('Thefts: Occurrence Hour')\n",
        "hourly_occ_data.plot(kind='line',  xlabel='Hour of the day', legend=True,\n",
        "                     marker='o', xticks=range(0,24),\n",
        "                     ylabel = 'Number of Thefts',\n",
        "                     title='Theft Reported Hour vs Occurrence Hour (2014-2024)',\n",
        "                     figsize=(13,9))"
      ],
      "execution_count": null,
      "outputs": []
    },
    {
      "cell_type": "code",
      "source": [
        "# Visualize hour of the day theft data by month.\n",
        "import seaborn as sns\n",
        "colors = sns.color_palette(\"tab10\", 12)\n",
        "for i, month in enumerate(month_order):\n",
        "  monthly_data = auto_theft_data_filtered[auto_theft_data_filtered['REPORT_MONTH'] == month]\n",
        "  hourly_data = monthly_data.groupby(['OCC_HOUR']).count()['EVENT_UNIQUE_ID']\n",
        "  hourly_data.name = month\n",
        "  hourly_data.plot(legend=True, figsize = (13,9), title='Hourly Thefts month-wise',\n",
        "                  xlabel = 'Hour of the day', ylabel = 'Number of Thefts',\n",
        "                  xticks=range(0,24), style='-', kind='line', marker='o', color=colors[i])\n"
      ],
      "metadata": {
        "id": "ggQRBUOaKUUM"
      },
      "execution_count": null,
      "outputs": []
    },
    {
      "cell_type": "code",
      "source": [
        "# Visualize for a year and check if it displays similar trend\n",
        "# Visualize hour of the day theft data by year. To be done per year as aggregate data might not be accurate\n",
        "#%matplotlib inline\n",
        "import matplotlib.pyplot as plt\n",
        "import seaborn as sns\n",
        "from IPython.display import display, HTML\n",
        "\n",
        "hourly_data_year = auto_theft_data_filtered.groupby(['REPORT_YEAR', 'OCC_HOUR']).size().reset_index(name='THEFT_COUNT')\n",
        "hourly_data_year['REPORT_YEAR'] = hourly_data_year['REPORT_YEAR'].astype(str)\n",
        "plt.figure(figsize=(13,9))\n",
        "sns.lineplot(x = 'OCC_HOUR', y = 'THEFT_COUNT', hue ='REPORT_YEAR',\n",
        "             data=hourly_data_year, marker='o')\n",
        "plt.legend(title='Year', loc='best')\n",
        "plt.title(f\"Total thefts by Hour of the day\")\n",
        "plt.xlabel(\"Hour of the day\")\n",
        "plt.ylabel(\"Number of Thefts\")\n",
        "plt.xticks(range(0, 24))\n",
        "plt.grid(True, linestyle='--', alpha=0.2)\n",
        "plt.show()\n",
        "\n",
        "#Get the Hour when the thefts are at peak\n",
        "display(HTML(\"<span style='font-weight:bold; font-size:18px;'>Hour when the theft is at peak by year</span>\"))\n",
        "display(hourly_data_year.loc[hourly_data_year.groupby(['REPORT_YEAR'])['THEFT_COUNT'].idxmax()].set_index('REPORT_YEAR'))"
      ],
      "metadata": {
        "id": "kkXKXCmxEc84"
      },
      "execution_count": null,
      "outputs": []
    },
    {
      "cell_type": "code",
      "source": [
        "# Vidualize based on day of the week for all years\n",
        "week_order = ['Monday', 'Tuesday', 'Wednesday', 'Thursday', 'Friday', 'Saturday', 'Sunday']\n",
        "auto_theft_data_filtered.loc[:, 'OCC_DOW'] = auto_theft_data_filtered['OCC_DOW'].str.strip()\n",
        "weekly_occ_df = auto_theft_data_filtered.groupby(['OCC_DOW']).size().reset_index(name='THEFT_COUNT')\n",
        "weekly_occ_df['OCC_DOW'] = pd.Categorical(weekly_occ_df['OCC_DOW'], categories=week_order, ordered=True)\n",
        "weekly_occ_df.sort_values('OCC_DOW', inplace=True)\n",
        "\n",
        "plt.figure(figsize=(10,7))\n",
        "sns.barplot(x='OCC_DOW', y='THEFT_COUNT', hue=x, data=weekly_occ_df, palette='rocket')\n",
        "plt.title(f\"Total thefts by Day of Week\")\n",
        "plt.xlabel('Day of Week')\n",
        "plt.ylabel('Number of Thefts')\n",
        "plt.show()"
      ],
      "metadata": {
        "id": "KWRkbVWA54e-"
      },
      "execution_count": null,
      "outputs": []
    },
    {
      "cell_type": "code",
      "source": [
        "## Visualize data based on Division\n",
        "division_data_yearly = auto_theft_data_filtered.groupby(['REPORT_YEAR', 'DIVISION']).size().reset_index(name='THEFTS')\n",
        "division_data_yearly\n",
        "\n",
        "plt.figure(figsize=(13,9))\n",
        "\n",
        "#Creates a dropdown widget by default\n",
        "@interact(year=division_data_yearly['REPORT_YEAR'].unique())\n",
        "def plot_by_year(year):\n",
        "    filtered = division_data_yearly[division_data_yearly['REPORT_YEAR'] == year]\n",
        "    sorted = filtered.sort_values('THEFTS', ascending=False)\n",
        "    sns.color_palette()\n",
        "    sns.barplot(x='DIVISION', y='THEFTS', data=sorted, palette='YlOrRd_r',\n",
        "                hue='DIVISION', legend=False)\n",
        "    plt.title(f\"Total Thefts per Division in {year}\")\n",
        "    plt.xticks(division_data_yearly['DIVISION'].unique())\n",
        "    #plt.ylim(0, 1650)\n",
        "    plt.show()"
      ],
      "metadata": {
        "id": "5EYnGcH8UEhO"
      },
      "execution_count": null,
      "outputs": []
    },
    {
      "cell_type": "markdown",
      "source": [
        "# Visualize the Auto Thefts per division on a Map\n",
        "\n",
        "\n"
      ],
      "metadata": {
        "id": "Zy9oizZN1_gT"
      }
    },
    {
      "cell_type": "code",
      "source": [
        "## Step 1: Prepare Your Data\n",
        "import geopandas as gpd\n",
        "import pandas as pd\n",
        "\n",
        "# Load GeoJSON and theft data\n",
        "gdf = gpd.read_file('Police_Boundaries.geojson')  # must include 'division_id' and 'name'\n",
        "df = division_data_yearly            # columns: division_id, year, theft_count\n",
        "df = df.rename(columns={'DIVISION': 'DIV'})\n",
        "\n",
        "# Convert GeoJSON to Web Mercator\n",
        "gdf = gdf.to_crs(epsg=3857)\n",
        "\n",
        "## Step 2: Function to Filter and Merge by Year\n",
        "\n",
        "def get_geojson_for_year(selected_year):\n",
        "    filtered_df = df[df['REPORT_YEAR'] == selected_year]\n",
        "    merged = gdf.merge(filtered_df, on='DIV')\n",
        "    return merged.to_json()\n",
        "\n",
        "## Step 3: Set Up Bokeh Plot\n",
        "\n",
        "from bokeh.models import GeoJSONDataSource, LinearColorMapper, ColorBar, HoverTool, Slider, Button, CustomJS\n",
        "from bokeh.plotting import figure\n",
        "from bokeh.layouts import column, row\n",
        "import xyzservices.providers as xyz\n",
        "from bokeh.io import curdoc\n",
        "\n",
        "# Initial year\n",
        "initial_year = df['REPORT_YEAR'].max()\n",
        "\n",
        "# GeoJSONDataSource\n",
        "geo_source = GeoJSONDataSource(geojson=get_geojson_for_year(initial_year))\n",
        "\n",
        "# Color mapper. Set it in reverse order to reflect darker color for high density region.\n",
        "color_mapper = LinearColorMapper(palette=YlOrRd9[::-1],\n",
        "                                 low=df['THEFTS'].min(),\n",
        "                                 high=df['THEFTS'].max())\n",
        "\n",
        "# Create figure\n",
        "p = figure(title=\"Theft Density by Division\",\n",
        "           x_axis_type=\"mercator\", y_axis_type=\"mercator\",\n",
        "           width=800, height=600, tools=\"pan,wheel_zoom,reset\")\n",
        "\n",
        "p.add_tile(xyz.CartoDB.Positron)\n",
        "\n",
        "# Add patches\n",
        "p.patches('xs', 'ys', source=geo_source,\n",
        "          fill_color={'field': 'THEFTS', 'transform': color_mapper},\n",
        "          line_color='black', line_width=0.5, fill_alpha=0.7)\n",
        "\n",
        "# Add color bar\n",
        "color_bar = ColorBar(color_mapper=color_mapper, label_standoff=12, location=(0,0))\n",
        "p.add_layout(color_bar, 'right')\n",
        "\n",
        "# Add hover tool\n",
        "hover = HoverTool(tooltips=[\n",
        "    (\"Division\", \"@DIV\"),\n",
        "    (\"Thefts\", \"@THEFTS\")\n",
        "])\n",
        "p.add_tools(hover)\n",
        "\n",
        "## Step 4: Add Slider and Callback\n",
        "\n",
        "# Create slider\n",
        "year_slider = IntSlider(\n",
        "    description = \"Year\",\n",
        "    value = initial_year,\n",
        "    min=df['REPORT_YEAR'].min(),\n",
        "    max=df['REPORT_YEAR'].max(),\n",
        "    step=1,\n",
        "    disabled=False,\n",
        "    continuous_update=False,\n",
        "    orientation='horizontal',\n",
        "    readout=True,\n",
        "    readout_format='d'\n",
        ")\n",
        "\n",
        "# Create table\n",
        "table_source = ColumnDataSource()\n",
        "columns = [\n",
        "    TableColumn(field=\"RANK\", title=\"RANK\", width=50),\n",
        "    TableColumn(field=\"DIVISION\", title=\"Divisions\", width=200),\n",
        "    TableColumn(field=\"THEFTS\", title=\"Theft Count\", width=100),\n",
        "]\n",
        "data_table = DataTable(source=table_source,\n",
        "                       columns=columns,\n",
        "                       width=500,\n",
        "                       height=600,\n",
        "                       index_position=None)\n",
        "\n",
        "layout = row(p, data_table)\n",
        "\n",
        "#Create a handle to push changes to the notebook graph\n",
        "handle = show(layout, notebook_handle=True)\n",
        "\n",
        "@interact(year=year_slider)\n",
        "def update_map(year):\n",
        "  div_year = division_data_yearly[division_data_yearly['REPORT_YEAR'] == year].sort_values('THEFTS', ascending=False).reset_index(drop=True)\n",
        "  div_year.index += 1\n",
        "  div_year['RANK'] = div_year.index\n",
        "  table_source.data = dict(ColumnDataSource(div_year).data)\n",
        "  new_geojson = get_geojson_for_year(year)\n",
        "  geo_source.geojson = new_geojson\n",
        "  p.title.text = f\"Theft Density by Division for {year}\"\n",
        "  push_notebook(handle=handle)"
      ],
      "metadata": {
        "id": "kwaTqDDX18y4"
      },
      "execution_count": null,
      "outputs": []
    },
    {
      "cell_type": "markdown",
      "source": [
        "# Visualize the Auto Thefts per Neighborhood on a Map\n",
        "Identify Top 10 Neighborhoods with highest theft frequency\n",
        "\n",
        "\n"
      ],
      "metadata": {
        "id": "tbntYGpqM7oU"
      }
    },
    {
      "cell_type": "code",
      "source": [
        "## Visualize data based on neighborhood data\n",
        "from bokeh.models import ColumnDataSource, DataTable, TableColumn, Div\n",
        "\n",
        "nhood_data_yearly = auto_theft_data_filtered.groupby(['REPORT_YEAR', 'NEIGHBOURHOOD_158']).size().reset_index(name='THEFTS')\n",
        "\n",
        "# Load GeoJSON and theft data\n",
        "gdf = gpd.read_file('Neighbourhoods.geojson')\n",
        "gdf = gdf.rename(columns={'AREA_DESC' : 'NEIGHBOURHOOD_158'})\n",
        "df = nhood_data_yearly            # columns: REPORT_YEAR, NEIGHBOURHOOD_158, THEFTS\n",
        "\n",
        "# Convert GeoJSON to Web Mercator\n",
        "gdf = gdf.to_crs(epsg=3857)\n",
        "\n",
        "#Function to Filter and Merge by Year\n",
        "def get_geojson_for_year(selected_year):\n",
        "    filtered_df = df[df['REPORT_YEAR'] == selected_year]\n",
        "    merged = gdf.merge(filtered_df, on='NEIGHBOURHOOD_158')\n",
        "    return merged.to_json()\n",
        "\n",
        "#Setup bokeh for visualization\n",
        "from bokeh.models import GeoJSONDataSource, LinearColorMapper, ColorBar, HoverTool\n",
        "from bokeh.plotting import figure\n",
        "from bokeh.layouts import column\n",
        "from bokeh.palettes import YlOrRd9, inferno\n",
        "from bokeh.io import curdoc\n",
        "\n",
        "# Initial year\n",
        "initial_year = df['REPORT_YEAR'].max()\n",
        "\n",
        "# GeoJSONDataSource\n",
        "geo_source = GeoJSONDataSource(geojson=get_geojson_for_year(initial_year))  # Must be in EPSG:4326\n",
        "\n",
        "# Color mapper. Set it in reverse order to reflect darker color for high density region.\n",
        "color_mapper = LinearColorMapper(palette=YlOrRd9[::-1],\n",
        "                                 low=df['THEFTS'].min(),\n",
        "                                 high=df['THEFTS'].max())\n",
        "\n",
        "# Create figure (no Mercator, no tile)\n",
        "p = figure(title=\"Theft Density by Neighbourhood\",\n",
        "           width=800, height=600,\n",
        "           tools=\"pan,wheel_zoom,reset\")\n",
        "\n",
        "p.add_tile(xyz.OpenStreetMap.Mapnik)\n",
        "\n",
        "# Add patches\n",
        "p.patches('xs', 'ys', source=geo_source,\n",
        "          fill_color={'field': 'THEFTS', 'transform': color_mapper},\n",
        "          line_color='black', line_width=0.5, fill_alpha=0.7)\n",
        "\n",
        "# Add color bar\n",
        "color_bar = ColorBar(color_mapper=color_mapper, label_standoff=12, location=(0,0))\n",
        "p.add_layout(color_bar, 'right')\n",
        "\n",
        "# Add hover tool\n",
        "hover = HoverTool(tooltips=[\n",
        "    (\"Neighborhood:\", \"@NEIGHBOURHOOD_158\"),\n",
        "    (\"Thefts:\", \"@THEFTS\")\n",
        "])\n",
        "p.add_tools(hover)\n",
        "\n",
        "# Layout\n",
        "curdoc().add_root(column(p))\n",
        "\n",
        "# Create slider\n",
        "year_slider = IntSlider(\n",
        "    description = \"Year\",\n",
        "    value = initial_year,\n",
        "    min=df['REPORT_YEAR'].min(),\n",
        "    max=df['REPORT_YEAR'].max(),\n",
        "    step=1,\n",
        "    disabled=False,\n",
        "    continuous_update=False,\n",
        "    orientation='horizontal',\n",
        "    readout=True,\n",
        "    readout_format='d'\n",
        ")\n",
        "\n",
        "# Create table\n",
        "table_source = ColumnDataSource()\n",
        "columns = [\n",
        "    TableColumn(field=\"RANK\", title=\"RANK\", width=50),\n",
        "    TableColumn(field=\"NEIGHBOURHOOD_158\", title=\"Top 10 Neighborhood\", width=200),\n",
        "    TableColumn(field=\"THEFTS\", title=\"Theft Count\", width=100),\n",
        "]\n",
        "data_table = DataTable(source=table_source,\n",
        "                       columns=columns,\n",
        "                       width=500,\n",
        "                       height=400,\n",
        "                       index_position=None)\n",
        "\n",
        "layout = row(p, data_table)\n",
        "\n",
        "#Create a handle to push changes to the notebook graph\n",
        "handle = show(layout, notebook_handle=True)\n",
        "\n",
        "@interact(year=year_slider)\n",
        "def update_map(year):\n",
        "  nhood_filtered = nhood_data_yearly[nhood_data_yearly['REPORT_YEAR'] == year]\n",
        "  threshold = nhood_filtered['THEFTS'].quantile(0.94)\n",
        "  vulnerable = nhood_filtered[nhood_filtered['THEFTS'] >= threshold].sort_values('THEFTS', ascending=False).reset_index(drop=True)\n",
        "  vulnerable.index += 1\n",
        "  vulnerable['RANK'] = vulnerable.index\n",
        "  table_source.data = dict(ColumnDataSource(vulnerable).data)\n",
        "  new_geojson = get_geojson_for_year(year)\n",
        "  geo_source.geojson = new_geojson\n",
        "  p.title.text = f\"Theft Density by Neighborhood for {year}\"\n",
        "  push_notebook(handle=handle)\n"
      ],
      "metadata": {
        "id": "VzdctXXRnqbF"
      },
      "execution_count": null,
      "outputs": []
    },
    {
      "cell_type": "markdown",
      "source": [
        "# Analyze the type of location where Auto thefts occur"
      ],
      "metadata": {
        "id": "IDMBofOumeZ8"
      }
    },
    {
      "cell_type": "code",
      "source": [
        "#Analyze Auto Theft data by location type for all years 2014-2024\n",
        "df = auto_theft_data_filtered\n",
        "df_grouped = df.groupby(['LOCATION_TYPE']).size().sort_values(ascending=False).reset_index(name='THEFTS')\n",
        "top_n = 7\n",
        "df_top = df_grouped.head(top_n)\n",
        "\n",
        "colors = cividis\n",
        "plt.figure(figsize=(7,7))\n",
        "plt.pie(df_top['THEFTS'], labels=df_top['LOCATION_TYPE'],\n",
        "        autopct='%1.1f%%', shadow=False, startangle=140,\n",
        "        wedgeprops={'linewidth': 1, 'edgecolor': 'white'})\n",
        "plt.title('Thefts by Location Type')\n",
        "plt.axis('equal')  # Equal aspect ratio ensures the pie is circular\n",
        "plt.show()\n",
        "\n"
      ],
      "metadata": {
        "id": "hm4iRDnAmp3Z"
      },
      "execution_count": null,
      "outputs": []
    },
    {
      "cell_type": "code",
      "source": [
        "## Displaying all the Auto Thefts for 2014-2024 in Maps\n",
        "import folium\n",
        "from folium import Choropleth, Circle, Marker\n",
        "from folium.plugins import HeatMap, MarkerCluster\n",
        "\n",
        "c_1 = folium.Map(location=[43.75,-79.30], tiles='openstreetmap', zoom_start=11)\n",
        "mc = MarkerCluster()\n",
        "for idx, row in df.iterrows():\n",
        "    if not math.isnan(row['LONG_WGS84']) and not math.isnan(row['LAT_WGS84']):\n",
        "        mc.add_child(Marker([row['LAT_WGS84'], row['LONG_WGS84']]))\n",
        "#title to the map\n",
        "title_html = '''\n",
        "             <h3 align=\"center\" style=\"font-size:16px\"><b>Total Auto thefts since 2014-2024 in Toronto</b></h3>\n",
        "             '''\n",
        "c_1.get_root().html.add_child(folium.Element(title_html))\n",
        "c_1.add_child(mc)\n"
      ],
      "metadata": {
        "collapsed": true,
        "id": "nCwIa7Alie6p"
      },
      "execution_count": null,
      "outputs": []
    }
  ]
}